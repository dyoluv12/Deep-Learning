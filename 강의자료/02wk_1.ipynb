{
  "nbformat": 4,
  "nbformat_minor": 0,
  "metadata": {
    "colab": {
      "provenance": [],
      "authorship_tag": "ABX9TyNezqBjOS3rOG5DGKO7C+Lc"
    },
    "kernelspec": {
      "name": "python3",
      "display_name": "Python 3"
    },
    "language_info": {
      "name": "python"
    }
  },
  "cells": [
    {
      "cell_type": "code",
      "execution_count": null,
      "metadata": {
        "id": "qfCokx32rONK"
      },
      "outputs": [],
      "source": [
        "import torch\n",
        "import numpy as np\n",
        "import matplotlib.pyplot as plt"
      ]
    },
    {
      "cell_type": "code",
      "execution_count": null,
      "metadata": {
        "id": "1e42dd61-e19e-4277-a004-2ea847b044d5"
      },
      "outputs": [],
      "source": [
        "torch.manual_seed(43052)\n",
        "x,_ = torch.randn(100).sort()\n",
        "eps = torch.randn(100)*0.5\n",
        "y = x * 4 + 2.5 + eps"
      ]
    },
    {
      "cell_type": "code",
      "source": [
        "X = torch.stack([torch.ones(100),x],axis=1)\n",
        "W = torch.tensor([[2.5],[4.0]])\n",
        "y = X@W + eps.reshape(100,1)\n",
        "x = X[:,[1]]"
      ],
      "metadata": {
        "id": "lfvBjeXawjxO"
      },
      "execution_count": null,
      "outputs": []
    },
    {
      "cell_type": "markdown",
      "metadata": {
        "id": "Ve_eM0Oa30y9"
      },
      "source": [
        "`# 경사하강법 (아이디어에서 좀 더 수식화)` -- $loss({\\bf W})$를 최소로 만드는 ${\\bf W}$를 컴퓨터로 구하는 방법, 즉 $\\hat{\\bf W} := \\underset{\\bf W}{\\operatorname{argmin}} ~ loss({\\bf W})$를 구하는 방법을 요약하면 아래와 같다.\n",
        "\n",
        "`1`. 임의의 점 $\\hat{\\bf W}$를 찍는다.\n",
        "\n",
        "`2`. 그 점에서 순간기울기를 구한다. 즉 $\\frac{\\partial}{\\partial {\\bf W}}loss({\\bf W})$ 를 계산한다.\n",
        "\n",
        "`3`. $\\hat{\\bf W}$에서의 순간기울기^[$\\frac{\\partial}{\\partial {\\bf W}}loss({\\bf W})$]의 부호를 살펴보고 부호와 반대방향으로 움직인다. 이때 기울기의 절대값 크기^[$\\left|\\frac{\\partial}{\\partial {\\bf W}}loss({\\bf W})\\right|$]와 비례하여 보폭(=움직이는 정도)을 각각 조절한다. 즉 아래의 수식에 따라 업데이트 한다.\n",
        "\n",
        "$$\\hat{\\bf W} \\leftarrow \\hat{\\bf W} - \\alpha \\times \\frac{\\partial}{\\partial {\\bf W}}loss({\\bf W})$$\n",
        "\n",
        "`#`"
      ]
    },
    {
      "cell_type": "code",
      "source": [
        "What = torch.tensor([[-5.0],[10.0]])\n",
        "What"
      ],
      "metadata": {
        "colab": {
          "base_uri": "https://localhost:8080/"
        },
        "id": "ZWoIkLA_w0Od",
        "outputId": "7ddc8dca-61d6-4049-dbec-7df94103a59d"
      },
      "execution_count": null,
      "outputs": [
        {
          "output_type": "execute_result",
          "data": {
            "text/plain": [
              "tensor([[-5.],\n",
              "        [10.]])"
            ]
          },
          "metadata": {},
          "execution_count": 62
        }
      ]
    },
    {
      "cell_type": "code",
      "source": [
        "yhat = X@What"
      ],
      "metadata": {
        "id": "CZSstdyLw03V"
      },
      "execution_count": null,
      "outputs": []
    },
    {
      "cell_type": "code",
      "source": [
        "loss = torch.sum((y-yhat)**2)\n",
        "loss"
      ],
      "metadata": {
        "colab": {
          "base_uri": "https://localhost:8080/"
        },
        "id": "Fdc2NcJ1wyut",
        "outputId": "19218c45-28d8-49d9-b085-21b5a758958f"
      },
      "execution_count": null,
      "outputs": [
        {
          "output_type": "execute_result",
          "data": {
            "text/plain": [
              "tensor(8587.6875)"
            ]
          },
          "metadata": {},
          "execution_count": 43
        }
      ]
    },
    {
      "cell_type": "code",
      "source": [
        "def l(w0, w1):\n",
        "  yhat = w0 + w1 * x\n",
        "  return torch.sum((y - yhat)**2) #loss함수(손실함수)만들기"
      ],
      "metadata": {
        "id": "fWqtl9EwxDwl"
      },
      "execution_count": null,
      "outputs": []
    },
    {
      "cell_type": "code",
      "source": [
        "l(-5, 10)"
      ],
      "metadata": {
        "colab": {
          "base_uri": "https://localhost:8080/"
        },
        "id": "YhRInksmxQsd",
        "outputId": "cd1a049b-f6df-450c-e6e3-5a5a3aac765e"
      },
      "execution_count": null,
      "outputs": [
        {
          "output_type": "execute_result",
          "data": {
            "text/plain": [
              "tensor(8587.6875)"
            ]
          },
          "metadata": {},
          "execution_count": 34
        }
      ]
    },
    {
      "cell_type": "code",
      "source": [
        "def f(x):\n",
        "  return x ** 2"
      ],
      "metadata": {
        "id": "jEQ8wanSxV_N"
      },
      "execution_count": null,
      "outputs": []
    },
    {
      "cell_type": "code",
      "source": [
        "f(3)"
      ],
      "metadata": {
        "colab": {
          "base_uri": "https://localhost:8080/"
        },
        "id": "kVeXxPeFxdGd",
        "outputId": "29a03e2b-1dee-4b5b-91a1-0df4611ecfc4"
      },
      "execution_count": null,
      "outputs": [
        {
          "output_type": "execute_result",
          "data": {
            "text/plain": [
              "9"
            ]
          },
          "metadata": {},
          "execution_count": 11
        }
      ]
    },
    {
      "cell_type": "code",
      "source": [
        "#(l(w0 + h, w1) - l(w0, w1)) / h 형태로 하면 미분이지.\n",
        "h = 0.0001\n",
        "print((l(-5 + h, 10) - l(-5, 10))/h)\n",
        "print((l(-5, 10 + h) - l(-5, 10))/h)"
      ],
      "metadata": {
        "colab": {
          "base_uri": "https://localhost:8080/"
        },
        "id": "cQ2Xu1lqxeaV",
        "outputId": "299a6df0-4adb-4e90-ef23-b19d63edc33c"
      },
      "execution_count": null,
      "outputs": [
        {
          "output_type": "stream",
          "name": "stdout",
          "text": [
            "tensor(-1337.8906)\n",
            "tensor(1191.4062)\n"
          ]
        }
      ]
    },
    {
      "cell_type": "markdown",
      "source": [
        "tensor(-1337.8906)\n",
        "\n",
        "tensor(1191.4062)"
      ],
      "metadata": {
        "id": "4V16b3klzuzF"
      }
    },
    {
      "cell_type": "code",
      "source": [
        "s1 = What - 0.001 * torch.tensor([[-1337.8906], [1191.4062]])\n",
        "s1"
      ],
      "metadata": {
        "colab": {
          "base_uri": "https://localhost:8080/"
        },
        "id": "IMHk0GMZyiZV",
        "outputId": "b09ffcd8-dcfd-4328-990a-72856638ad7d"
      },
      "execution_count": null,
      "outputs": [
        {
          "output_type": "execute_result",
          "data": {
            "text/plain": [
              "tensor([[-3.6621],\n",
              "        [ 8.8086]])"
            ]
          },
          "metadata": {},
          "execution_count": 64
        }
      ]
    },
    {
      "cell_type": "code",
      "source": [
        "plt.plot(x, y, 'o')\n",
        "plt.plot(x, X@What, '-')\n",
        "plt.plot(x, X@s1, '-')"
      ],
      "metadata": {
        "colab": {
          "base_uri": "https://localhost:8080/",
          "height": 448
        },
        "id": "VXwDuWswzDsd",
        "outputId": "cd7e2aa9-eb75-424a-a341-2f850edbf65c"
      },
      "execution_count": null,
      "outputs": [
        {
          "output_type": "execute_result",
          "data": {
            "text/plain": [
              "[<matplotlib.lines.Line2D at 0x7a6170c34410>]"
            ]
          },
          "metadata": {},
          "execution_count": 65
        },
        {
          "output_type": "display_data",
          "data": {
            "text/plain": [
              "<Figure size 640x480 with 1 Axes>"
            ],
            "image/png": "[encoded data removed]"
          },
          "metadata": {}
        }
      ]
    },
    {
      "cell_type": "code",
      "source": [
        "-2 * X.T @ y + 2 * X.T @ X @ What"
      ],
      "metadata": {
        "colab": {
          "base_uri": "https://localhost:8080/"
        },
        "id": "uMHaay1pzH-1",
        "outputId": "ed881c00-09ab-48db-e1af-458c0f4250ad"
      },
      "execution_count": null,
      "outputs": [
        {
          "output_type": "execute_result",
          "data": {
            "text/plain": [
              "tensor([[-1342.2522],\n",
              "        [ 1188.9307]])"
            ]
          },
          "metadata": {},
          "execution_count": 41
        }
      ]
    },
    {
      "cell_type": "markdown",
      "source": [
        "tensor(\n",
        "  \n",
        "        [[-1342.2522],\n",
        "        \n",
        "        [ 1188.9307]])"
      ],
      "metadata": {
        "id": "RM-V6GcDzxdt"
      }
    },
    {
      "cell_type": "code",
      "source": [
        "What = torch.tensor([[-5.0],[10.0]],requires_grad=True)\n",
        "yhat = X@What\n",
        "loss = torch.sum((y-yhat)**2)\n",
        "loss"
      ],
      "metadata": {
        "colab": {
          "base_uri": "https://localhost:8080/"
        },
        "id": "yBGTf54tzp5V",
        "outputId": "183ce755-3f3f-485f-c861-1fb83ae8c9ea"
      },
      "execution_count": null,
      "outputs": [
        {
          "output_type": "execute_result",
          "data": {
            "text/plain": [
              "tensor(8587.6875, grad_fn=<SumBackward0>)"
            ]
          },
          "metadata": {},
          "execution_count": 85
        }
      ]
    },
    {
      "cell_type": "markdown",
      "metadata": {
        "id": "c441f93e-690e-432d-81bb-3e48ec4b22c3"
      },
      "source": [
        "`-` 여기에서 미분을 어떻게...?? 즉 아래를 어떻게 계산해..?\n",
        "\n",
        "$$\\frac{\\partial}{\\partial {\\bf W}}loss({\\bf W}):= \\begin{bmatrix} \\frac{\\partial}{\\partial w_0} \\\\ \\frac{\\partial}{\\partial w_1}\\end{bmatrix}loss({\\bf W}) =  \\begin{bmatrix} \\frac{\\partial}{\\partial w_0}loss({\\bf W}) \\\\ \\frac{\\partial}{\\partial w_1}loss({\\bf W})\\end{bmatrix} $$"
      ]
    },
    {
      "cell_type": "markdown",
      "metadata": {
        "id": "bdf052f5-8c73-4a35-99d1-ed6a63f739b6"
      },
      "source": [
        "> `loss.backward()`를 실행하면 `What.grad`에 미분값이 업데이트 되어요!"
      ]
    },
    {
      "cell_type": "code",
      "source": [
        "loss.backward() #loss를 꼬리표가 있게 한 What으로 미분해라.\n",
        "#즉, What에 해당하는 접선의 기울기이다."
      ],
      "metadata": {
        "id": "XI8eZoopsCY_"
      },
      "execution_count": null,
      "outputs": []
    },
    {
      "cell_type": "code",
      "source": [
        "print(What.grad)"
      ],
      "metadata": {
        "colab": {
          "base_uri": "https://localhost:8080/"
        },
        "id": "OWjI-1co0UOF",
        "outputId": "7c97d4f5-dcc8-4ef1-b2b3-e711d1cf7f50"
      },
      "execution_count": null,
      "outputs": [
        {
          "output_type": "stream",
          "name": "stdout",
          "text": [
            "tensor([[-1342.2524],\n",
            "        [ 1188.9305]])\n"
          ]
        }
      ]
    },
    {
      "cell_type": "markdown",
      "source": [
        "What = torch.tensor([[-5.0],[10.0]],requires_grad=True) #최초의 직선\n",
        "\n",
        "yhat = X@What\n",
        "\n",
        "loss = torch.sum((y-yhat)**2)\n",
        "\n",
        "- update : 나중 W_hat = 원래 W_hat - 0.001 * What.grad\n",
        "\n",
        "What.data = What.data - 0.001 * What.grad #update된 What\n",
        "\n",
        "- 위의 yhat부터 계속 반복"
      ],
      "metadata": {
        "id": "LlYpTYe912Ok"
      }
    },
    {
      "cell_type": "code",
      "source": [
        "What = torch.tensor([[-5.0],[10.0]],requires_grad=True) #최초의 직선\n",
        "for epoc in range(30):\n",
        "  yhat = X@What\n",
        "  loss = torch.sum((y-yhat)**2)\n",
        "  loss.backward()\n",
        "  #update : 나중 W_hat = 원래 W_hat - 0.001 * What.grad\n",
        "  What.data = What.data - 0.001 * What.grad #update된 What\n",
        "  What.grad = None #What.grad 값을 초기화해줘야한다!"
      ],
      "metadata": {
        "id": "t4KMlbkD1c0k"
      },
      "execution_count": null,
      "outputs": []
    },
    {
      "cell_type": "markdown",
      "source": [
        "What.grad = None #What.grad 값을 초기화해줘야한다!\n",
        "\n",
        "왜냐하면\n",
        "\n",
        "-> What.grad는 처음에 none으로 초기화되어 있음. loss.backward()를 실행하면 What.grad값이 What에서의 미분값으로 업데이트 된다. 즉, What.grad = What에서의 미분값인 셈이다.\n",
        "\n",
        "-> 위는 사실이 아님!\n",
        "\n",
        "-> 실제로는 **원래 있던 미분값을 그대로 유지한 후 What에서의 미분값을 더해서 갱신**하는 것이다!\n",
        "\n",
        "즉, loss.backward()를 실행한 후 **What.grad = What.grad + What에서의 미분값**인 것이다."
      ],
      "metadata": {
        "id": "0sbDPMwc2KmU"
      }
    },
    {
      "cell_type": "code",
      "source": [
        "plt.plot(x, y, 'o')\n",
        "plt.plot(x, X@What.data, '-')"
      ],
      "metadata": {
        "colab": {
          "base_uri": "https://localhost:8080/",
          "height": 448
        },
        "id": "jzmAzCzW180s",
        "outputId": "5d6fcd31-e0b7-46ca-e00d-cb6a51c2c0d9"
      },
      "execution_count": null,
      "outputs": [
        {
          "output_type": "execute_result",
          "data": {
            "text/plain": [
              "[<matplotlib.lines.Line2D at 0x7a61804c50d0>]"
            ]
          },
          "metadata": {},
          "execution_count": 70
        },
        {
          "output_type": "display_data",
          "data": {
            "text/plain": [
              "<Figure size 640x480 with 1 Axes>"
            ],
            "image/png": "[encoded data removed]"
          },
          "metadata": {}
        }
      ]
    },
    {
      "cell_type": "markdown",
      "metadata": {
        "id": "3e300ed8-4ede-4cae-987e-8ffc82b30575"
      },
      "source": [
        "`# 경사하강법 (아이디어에서 좀 더 수식화)` -- $loss({\\bf W})$를 최소로 만드는 ${\\bf W}$를 컴퓨터로 구하는 방법, 즉 $\\hat{\\bf W} := \\underset{\\bf W}{\\operatorname{argmin}} ~ loss({\\bf W})$를 구하는 방법을 요약하면 아래와 같다.\n",
        "\n",
        "`1`. 임의의 점 $\\hat{\\bf W}$를 찍는다.\n",
        "\n",
        "`2`. 그 점에서 순간기울기를 구한다. 즉 $\\frac{\\partial}{\\partial {\\bf W}}loss({\\bf W})$ 를 계산한다.\n",
        "\n",
        "`3`. $\\hat{\\bf W}$에서의 순간기울기^[$\\frac{\\partial}{\\partial {\\bf W}}loss({\\bf W})$]의 부호를 살펴보고 부호와 반대방향으로 움직인다. 이때 기울기의 절대값 크기^[$\\left|\\frac{\\partial}{\\partial {\\bf W}}loss({\\bf W})\\right|$]와 비례하여 보폭(=움직이는 정도)을 각각 조절한다. 즉 아래의 수식에 따라 업데이트 한다.\n",
        "\n",
        "$$\\hat{\\bf W} \\leftarrow \\hat{\\bf W} - \\alpha \\times \\frac{\\partial}{\\partial {\\bf W}}loss({\\bf W})$$\n",
        "\n",
        "`#`"
      ]
    },
    {
      "cell_type": "markdown",
      "metadata": {
        "id": "qn3jKLc438_k"
      },
      "source": [
        "`-` 여기에서 미분을 어떻게...?? 즉 아래를 어떻게 계산해..?\n",
        "\n",
        "$$\\frac{\\partial}{\\partial {\\bf W}}loss({\\bf W}):= \\begin{bmatrix} \\frac{\\partial}{\\partial w_0} \\\\ \\frac{\\partial}{\\partial w_1}\\end{bmatrix}loss({\\bf W}) =  \\begin{bmatrix} \\frac{\\partial}{\\partial w_0}loss({\\bf W}) \\\\ \\frac{\\partial}{\\partial w_1}loss({\\bf W})\\end{bmatrix} $$"
      ]
    },
    {
      "cell_type": "markdown",
      "source": [
        "편미분하라는 것!"
      ],
      "metadata": {
        "id": "Qwc5pBuY3_LU"
      }
    },
    {
      "cell_type": "markdown",
      "metadata": {
        "id": "00rUKzIR3-ZU"
      },
      "source": [
        "> `loss.backward()`를 실행하면 `What.grad`에 미분값이 업데이트 되어요!"
      ]
    },
    {
      "cell_type": "markdown",
      "metadata": {
        "id": "dd942d5a-cfde-4806-a7b1-e1f4386f13eb"
      },
      "source": [
        "`-` 계산결과의 검토 (1)\n",
        "\n",
        "- $loss({\\bf W})=({\\bf y}-\\hat{\\bf y})^\\top ({\\bf y}-\\hat{\\bf y})=({\\bf y}-{\\bf XW})^\\top ({\\bf y}-{\\bf XW})$\n",
        "\n",
        "- $\\frac{\\partial}{\\partial {\\bf W}}loss({\\bf W})=-2{\\bf X}^\\top {\\bf y}+2{\\bf X}^\\top {\\bf X W}$"
      ]
    },
    {
      "cell_type": "markdown",
      "metadata": {
        "id": "16aae464-d252-4ed8-8a54-544e8ad3a619"
      },
      "source": [
        "`-` 계산결과의 검토 (2)"
      ]
    },
    {
      "cell_type": "markdown",
      "metadata": {
        "id": "5480bea0-4bd7-43a5-ba4f-4e12e957cc9a"
      },
      "source": [
        "$$\\frac{\\partial}{\\partial {\\bf W} } loss({\\bf W})=\\begin{bmatrix}\\frac{\\partial}{\\partial w_0} \\\\ \\frac{\\partial}{\\partial w_1} \\end{bmatrix}loss({\\bf W}) =\\begin{bmatrix}\\frac{\\partial}{\\partial w_0}loss(w_0,w_1) \\\\ \\frac{\\partial}{\\partial w_1}loss(w_0,w_1) \\end{bmatrix}$$"
      ]
    },
    {
      "cell_type": "markdown",
      "metadata": {
        "id": "131fb638-8f5e-4155-a0c6-5d7e1cc356ac"
      },
      "source": [
        "를 계산하고 싶은데 벡터미분을 할줄 모른다고 하자. 편미분의 정의를 살펴보면,\n",
        "\n",
        "$$\\frac{\\partial}{\\partial w_0}loss(w_0,w_1) \\approx \\frac{loss(w_0+h,w_1)-loss(w_0,w_1)}{h}$$\n",
        "\n",
        "$$\\frac{\\partial}{\\partial w_1}loss(w_0,w_1) \\approx \\frac{loss(w_0,w_1+h)-loss(w_0,w_1)}{h}$$"
      ]
    },
    {
      "cell_type": "code",
      "source": [
        "def l(w0, w1):\n",
        "  yhat = w0 + w1 * x\n",
        "  return torch.sum((y - yhat)**2) #loss함수(손실함수)만들기"
      ],
      "metadata": {
        "id": "Pu87fs_44zdk"
      },
      "execution_count": null,
      "outputs": []
    },
    {
      "cell_type": "code",
      "source": [
        "#(l(w0 + h, w1) - l(w0, w1)) / h 형태로 하면 미분이지.\n",
        "h = 0.0001\n",
        "print((l(-5 + h, 10) - l(-5, 10))/h)\n",
        "print((l(-5, 10 + h) - l(-5, 10))/h)"
      ],
      "metadata": {
        "colab": {
          "base_uri": "https://localhost:8080/"
        },
        "id": "7l9vptFz4z00",
        "outputId": "3630f383-2dd9-481a-888d-aa55bb715bcf"
      },
      "execution_count": null,
      "outputs": [
        {
          "output_type": "stream",
          "name": "stdout",
          "text": [
            "tensor(-1337.8906)\n",
            "tensor(1191.4062)\n"
          ]
        }
      ]
    },
    {
      "cell_type": "code",
      "source": [
        "What.grad"
      ],
      "metadata": {
        "id": "dtkC9SSc5MOU"
      },
      "execution_count": null,
      "outputs": []
    },
    {
      "cell_type": "markdown",
      "metadata": {
        "id": "6e6b65b7-7bd4-47e8-b516-a04919a69705"
      },
      "source": [
        "`-` 이제 아래의 공식에 넣고 업데이트해보자"
      ]
    },
    {
      "cell_type": "markdown",
      "metadata": {
        "id": "43e1e60a-57e2-4925-81d7-1fd5ce730df9"
      },
      "source": [
        "$$\\hat{\\bf W} \\leftarrow \\hat{\\bf W} - \\alpha \\times \\frac{\\partial}{\\partial {\\bf W}}loss({\\bf W})$$"
      ]
    },
    {
      "cell_type": "code",
      "source": [
        "alpha = 0.001\n",
        "print(f\"{What.data} -- 수정전\")\n",
        "print(f\"{-alpha*What.grad} -- 수정하는폭\")\n",
        "print(f\"{What.data-alpha*What.grad} -- 수정후\")\n",
        "print(f\"{torch.linalg.inv((X.T @ X)) @ X.T @ y} -- 회귀분석으로 구한값\")\n",
        "print(f\"{torch.tensor([[2.5],[4]])} -- 참값(이건 비밀~~)\")"
      ],
      "metadata": {
        "colab": {
          "base_uri": "https://localhost:8080/"
        },
        "id": "P0qX13KMsOpV",
        "outputId": "13932f02-c9a9-43ee-9420-c4438f2e63c8"
      },
      "execution_count": null,
      "outputs": [
        {
          "output_type": "stream",
          "name": "stdout",
          "text": [
            "tensor([[-5.],\n",
            "        [10.]]) -- 수정전\n",
            "tensor([[ 1.3423],\n",
            "        [-1.1889]]) -- 수정하는폭\n",
            "tensor([[-3.6577],\n",
            "        [ 8.8111]]) -- 수정후\n",
            "tensor([[2.4459],\n",
            "        [4.0043]]) -- 회귀분석으로 구한값\n",
            "tensor([[2.5000],\n",
            "        [4.0000]]) -- 참값(이건 비밀~~)\n"
          ]
        }
      ]
    },
    {
      "cell_type": "code",
      "source": [],
      "metadata": {
        "id": "rfmz7WdnsU7m"
      },
      "execution_count": null,
      "outputs": []
    }
  ]
}
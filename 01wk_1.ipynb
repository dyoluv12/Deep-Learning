{
  "cells": [
    {
      "cell_type": "markdown",
      "id": "22a4476f-6d45-4f1c-bc1d-7084d3491ce3",
      "metadata": {
        "id": "22a4476f-6d45-4f1c-bc1d-7084d3491ce3"
      },
      "source": [
        "# 1. 강의영상"
      ]
    },
    {
      "cell_type": "code",
      "execution_count": null,
      "id": "2071641b-8515-4292-816e-9d947a6979c6",
      "metadata": {
        "id": "2071641b-8515-4292-816e-9d947a6979c6"
      },
      "outputs": [],
      "source": [
        "# {{<video https://youtu.be/playlist?list=PLQqh36zP38-x6P7VsPJG0cqNkbJTII5yR&si=HhIbz4gH711kw7Dx >}}"
      ]
    },
    {
      "cell_type": "markdown",
      "id": "c4d9e2b5-c601-42e1-8b0b-37279aaed6a3",
      "metadata": {
        "id": "c4d9e2b5-c601-42e1-8b0b-37279aaed6a3"
      },
      "source": [
        "# 2. Imports"
      ]
    },
    {
      "cell_type": "code",
      "execution_count": null,
      "id": "903d2bef-18cf-436f-aba0-bbf57ea3bbcb",
      "metadata": {
        "id": "903d2bef-18cf-436f-aba0-bbf57ea3bbcb"
      },
      "outputs": [],
      "source": [
        "import torch\n",
        "import matplotlib.pyplot as plt"
      ]
    },
    {
      "cell_type": "markdown",
      "id": "558f58cb-3274-40a2-a18b-8ca09708de2b",
      "metadata": {
        "id": "558f58cb-3274-40a2-a18b-8ca09708de2b"
      },
      "source": [
        "# 3. 환경셋팅"
      ]
    },
    {
      "cell_type": "markdown",
      "id": "69b7d76e-6605-4961-9b82-6f17d2e62e54",
      "metadata": {
        "id": "69b7d76e-6605-4961-9b82-6f17d2e62e54"
      },
      "source": [
        "`-` 코랩이용자: 별도의 설치 필요 없음\n",
        "\n",
        "### - **GPU 관리가 꼭 필요함!! (시험하루전날 수업 몰아서 듣지않기, 아이디만들어두기) 강의를 미리미리 들어야지 gpu를 덜 써서 다음날 gpu가 블락될 위험이 줄어듦...  꼭 강의는 미리 들어서 시험 전날엔 gpu 쓰지 말자**\n",
        "- 특히 시험기간에 조심하세요"
      ]
    },
    {
      "cell_type": "markdown",
      "id": "4ca12b61-7871-462a-8384-97f0803e5bfa",
      "metadata": {
        "id": "4ca12b61-7871-462a-8384-97f0803e5bfa"
      },
      "source": [
        "`-` 리눅스서버 사용자 (ref: <https://pytorch.org/get-started/locally/>)"
      ]
    },
    {
      "cell_type": "markdown",
      "id": "ace0e0b6-9b6e-4862-a64c-64e19ab7dac9",
      "metadata": {
        "id": "ace0e0b6-9b6e-4862-a64c-64e19ab7dac9"
      },
      "source": [
        "```bash\n",
        "conda create -n dl2025 python=3.9\n",
        "conda activate dl2025\n",
        "pip3 install torch torchvision torchaudio --index-url https://download.pytorch.org/whl/cu126\n",
        "```"
      ]
    },
    {
      "cell_type": "markdown",
      "id": "601962a7-753c-4170-a753-cfbd7648cb74",
      "metadata": {
        "id": "601962a7-753c-4170-a753-cfbd7648cb74"
      },
      "source": [
        "# 4. 필요한 지식"
      ]
    },
    {
      "cell_type": "markdown",
      "id": "edcb5a0b-543b-4d7b-af8c-7404536d472a",
      "metadata": {
        "id": "edcb5a0b-543b-4d7b-af8c-7404536d472a"
      },
      "source": [
        "`-` 선형대수학\n",
        "\n",
        "- 벡터와 행렬\n",
        "- 행렬의 곱셉\n",
        "- 트랜스포즈"
      ]
    },
    {
      "cell_type": "markdown",
      "id": "596f05a1-8c61-411c-8f55-c8fe868c5d70",
      "metadata": {
        "id": "596f05a1-8c61-411c-8f55-c8fe868c5d70"
      },
      "source": [
        "`-` 기초통계학(수리통계)\n",
        "\n",
        "- 정규분포, 이항분포\n",
        "- 모수, 추정\n",
        "- $X_i \\overset{i.i.d.}{\\sim} N(0,1)$\n"
      ]
    },
    {
      "cell_type": "markdown",
      "id": "7041a648-1a4c-4836-a3c6-0e6e4b63c483",
      "metadata": {
        "id": "7041a648-1a4c-4836-a3c6-0e6e4b63c483"
      },
      "source": [
        "`-` 회귀분석\n",
        "\n",
        "- 독립변수($y$), 설명변수($X$)\n",
        "- ${\\boldsymbol y} = {\\bf X}{\\boldsymbol \\beta} + {\\boldsymbol \\epsilon}$"
      ]
    },
    {
      "cell_type": "markdown",
      "id": "a6de61f5-82bf-4901-9713-b54b02696622",
      "metadata": {
        "id": "a6de61f5-82bf-4901-9713-b54b02696622"
      },
      "source": [
        "`-` 파이썬\n",
        "\n",
        "- 파이썬 기본문법\n",
        "- 넘파이, 판다스\n",
        "- 전반적인 클래스 지식 (`__init__`, `self`, ...)\n",
        "- 상속"
      ]
    },
    {
      "cell_type": "markdown",
      "id": "3e931662-90f2-4b08-adb6-2af24dd867ce",
      "metadata": {
        "id": "3e931662-90f2-4b08-adb6-2af24dd867ce"
      },
      "source": [
        "# 5. 예비학습"
      ]
    },
    {
      "cell_type": "markdown",
      "id": "a7982e7f-4484-4348-b8dc-f2cc7fdc7b77",
      "metadata": {
        "id": "a7982e7f-4484-4348-b8dc-f2cc7fdc7b77"
      },
      "source": [
        "## A. torch"
      ]
    },
    {
      "cell_type": "markdown",
      "id": "e822671a-a125-478c-a772-03ace27f4879",
      "metadata": {
        "id": "e822671a-a125-478c-a772-03ace27f4879"
      },
      "source": [
        "`-` 벡터"
      ]
    },
    {
      "cell_type": "code",
      "execution_count": null,
      "id": "f49a819d-6474-490d-bf3b-b14b2189caaa",
      "metadata": {
        "id": "f49a819d-6474-490d-bf3b-b14b2189caaa",
        "outputId": "1924a05b-f631-409a-c2ac-4c5b2b495c9b",
        "colab": {
          "base_uri": "https://localhost:8080/"
        }
      },
      "outputs": [
        {
          "output_type": "execute_result",
          "data": {
            "text/plain": [
              "tensor([1, 2, 3])"
            ]
          },
          "metadata": {},
          "execution_count": 2
        }
      ],
      "source": [
        "torch.tensor([1,2,3]) #벡터"
      ]
    },
    {
      "cell_type": "markdown",
      "id": "6dd80008-787e-48c1-9509-2e380dbd0333",
      "metadata": {
        "id": "6dd80008-787e-48c1-9509-2e380dbd0333"
      },
      "source": [
        "`-` 벡터의 덧셈"
      ]
    },
    {
      "cell_type": "code",
      "execution_count": null,
      "id": "1a9b9b4e-7a94-4c45-a7e4-a152f568ba4e",
      "metadata": {
        "id": "1a9b9b4e-7a94-4c45-a7e4-a152f568ba4e",
        "outputId": "895cce86-52e0-43a0-bb98-f9a06a88dfa7",
        "colab": {
          "base_uri": "https://localhost:8080/"
        }
      },
      "outputs": [
        {
          "output_type": "execute_result",
          "data": {
            "text/plain": [
              "tensor([3, 4, 5])"
            ]
          },
          "metadata": {},
          "execution_count": 4
        }
      ],
      "source": [
        "torch.tensor([1,2,3]) + torch.tensor([2,2,2]) #벡터의 같은 위치끼리 더해진다"
      ]
    },
    {
      "cell_type": "markdown",
      "id": "9b5b90bb-3a91-4eee-8d7e-b0ab0feaf4ad",
      "metadata": {
        "id": "9b5b90bb-3a91-4eee-8d7e-b0ab0feaf4ad"
      },
      "source": [
        "`-` 브로드캐스팅"
      ]
    },
    {
      "cell_type": "code",
      "execution_count": null,
      "id": "0e6e6116-e148-4fcc-97af-148d4d30e1dd",
      "metadata": {
        "id": "0e6e6116-e148-4fcc-97af-148d4d30e1dd",
        "outputId": "f110d702-8ce0-48d6-cd1f-060508a43bed",
        "colab": {
          "base_uri": "https://localhost:8080/"
        }
      },
      "outputs": [
        {
          "output_type": "execute_result",
          "data": {
            "text/plain": [
              "tensor([3, 4, 5])"
            ]
          },
          "metadata": {},
          "execution_count": 6
        }
      ],
      "source": [
        "torch.tensor([1,2,3]) + 2 #벡터 [1,2,3]에다가 2를 다 더해준다. 수학적 표현이 아니지만 가능함 - 브로드캐스팅"
      ]
    },
    {
      "cell_type": "markdown",
      "id": "356df037-68a3-4b6d-bba4-f51bcdbfdbd2",
      "metadata": {
        "id": "356df037-68a3-4b6d-bba4-f51bcdbfdbd2"
      },
      "source": [
        "## B. 벡터와 매트릭스"
      ]
    },
    {
      "cell_type": "markdown",
      "id": "3bffe9f3-ab88-4935-8eec-9e4a78a02e86",
      "metadata": {
        "id": "3bffe9f3-ab88-4935-8eec-9e4a78a02e86"
      },
      "source": [
        "`-` $3 \\times 2$ matrix"
      ]
    },
    {
      "cell_type": "code",
      "execution_count": null,
      "id": "385f1c2f-95fd-4612-9da6-c1173e0369ff",
      "metadata": {
        "id": "385f1c2f-95fd-4612-9da6-c1173e0369ff",
        "outputId": "ccedd95a-e405-4164-895b-a4c0e3c8c3da",
        "colab": {
          "base_uri": "https://localhost:8080/"
        }
      },
      "outputs": [
        {
          "output_type": "execute_result",
          "data": {
            "text/plain": [
              "tensor([[1, 2],\n",
              "        [3, 4],\n",
              "        [5, 6]])"
            ]
          },
          "metadata": {},
          "execution_count": 8
        }
      ],
      "source": [
        "torch.tensor([[1,2],[3,4],[5,6]]) #3x2 행렬"
      ]
    },
    {
      "cell_type": "markdown",
      "id": "60b68973-6e4d-4614-b17e-f5ba52c5eaf0",
      "metadata": {
        "id": "60b68973-6e4d-4614-b17e-f5ba52c5eaf0"
      },
      "source": [
        "`-` $3 \\times 1$ matrix = $3 \\times 1$ column vector"
      ]
    },
    {
      "cell_type": "code",
      "execution_count": null,
      "id": "650c60bb-9a48-4878-82bf-7a48db23be8f",
      "metadata": {
        "id": "650c60bb-9a48-4878-82bf-7a48db23be8f",
        "outputId": "7fd58c10-252c-4d93-cea5-02cd5b8ae222",
        "colab": {
          "base_uri": "https://localhost:8080/"
        }
      },
      "outputs": [
        {
          "output_type": "execute_result",
          "data": {
            "text/plain": [
              "tensor([[1],\n",
              "        [3],\n",
              "        [5]])"
            ]
          },
          "metadata": {},
          "execution_count": 10
        }
      ],
      "source": [
        "torch.tensor([[1],[3],[5]]) #3x1 행렬 (컬럼벡터, 열벡터)"
      ]
    },
    {
      "cell_type": "markdown",
      "id": "c5cdea88-6fed-47ad-925f-dce1abde2b01",
      "metadata": {
        "id": "c5cdea88-6fed-47ad-925f-dce1abde2b01"
      },
      "source": [
        "`-` $1 \\times 2$ matrix = $1 \\times 2$ raw vector"
      ]
    },
    {
      "cell_type": "code",
      "execution_count": null,
      "id": "950ceb01-dc8c-48f9-a72a-6ad56b2b71fe",
      "metadata": {
        "id": "950ceb01-dc8c-48f9-a72a-6ad56b2b71fe",
        "outputId": "f9c4afa5-50b0-4e75-a993-c83b30b38176",
        "colab": {
          "base_uri": "https://localhost:8080/"
        }
      },
      "outputs": [
        {
          "output_type": "execute_result",
          "data": {
            "text/plain": [
              "tensor([[1, 2]])"
            ]
          },
          "metadata": {},
          "execution_count": 11
        }
      ],
      "source": [
        "torch.tensor([[1,2]]) #1x2 행렬 (로우벡터, 행벡터)"
      ]
    },
    {
      "cell_type": "markdown",
      "id": "cd4f34f8-de0c-41d4-8072-85c56ea29df8",
      "metadata": {
        "id": "cd4f34f8-de0c-41d4-8072-85c56ea29df8"
      },
      "source": [
        "`-` 더하기"
      ]
    },
    {
      "cell_type": "markdown",
      "id": "23ad6e29-4d2f-4c89-8b07-5f610fdd367c",
      "metadata": {
        "id": "23ad6e29-4d2f-4c89-8b07-5f610fdd367c"
      },
      "source": [
        "***브로드캐스팅(편한거)***"
      ]
    },
    {
      "cell_type": "code",
      "execution_count": null,
      "id": "ca7e7d66-a904-4101-8c72-7393126df3d0",
      "metadata": {
        "id": "ca7e7d66-a904-4101-8c72-7393126df3d0",
        "outputId": "bd69f362-3da9-44a6-8a78-622939a396a7",
        "colab": {
          "base_uri": "https://localhost:8080/"
        }
      },
      "outputs": [
        {
          "output_type": "execute_result",
          "data": {
            "text/plain": [
              "tensor([[0, 1],\n",
              "        [2, 3],\n",
              "        [4, 5]])"
            ]
          },
          "metadata": {},
          "execution_count": 12
        }
      ],
      "source": [
        "torch.tensor([[1,2],[3,4],[5,6]]) - 1 #모든 원소를 1씩 뺀다"
      ]
    },
    {
      "cell_type": "code",
      "execution_count": null,
      "id": "fed0bb9a-f882-416b-84a6-a5673395c211",
      "metadata": {
        "id": "fed0bb9a-f882-416b-84a6-a5673395c211",
        "outputId": "ea9a98f6-cc8f-41ca-9dac-6f2f5bdf7892",
        "colab": {
          "base_uri": "https://localhost:8080/"
        }
      },
      "outputs": [
        {
          "output_type": "execute_result",
          "data": {
            "text/plain": [
              "tensor([[0, 1],\n",
              "        [0, 1],\n",
              "        [0, 1]])"
            ]
          },
          "metadata": {},
          "execution_count": 14
        }
      ],
      "source": [
        "torch.tensor([[1,2],[3,4],[5,6]]) + torch.tensor([[-1],[-3],[-5]]) #3x2 행렬에서 3x1 행렬 뺄셈"
      ]
    },
    {
      "cell_type": "code",
      "execution_count": null,
      "id": "b5c41b92-5ca3-496f-b2ec-884b09a64e8a",
      "metadata": {
        "id": "b5c41b92-5ca3-496f-b2ec-884b09a64e8a",
        "outputId": "07c26b1f-3a6b-4b6c-ba12-ccbfa9ef014c",
        "colab": {
          "base_uri": "https://localhost:8080/"
        }
      },
      "outputs": [
        {
          "output_type": "execute_result",
          "data": {
            "text/plain": [
              "tensor([[0, 0],\n",
              "        [2, 2],\n",
              "        [4, 4]])"
            ]
          },
          "metadata": {},
          "execution_count": 16
        }
      ],
      "source": [
        "torch.tensor([[1,2],[3,4],[5,6]]) + torch.tensor([[-1,-2]]) #3x2행렬에서 1x2행렬 뺄셈. 여기서 1x2 행렬이 3x2행렬에 맞게 3x2가 되고 -1과 -2가 밑으로 두 줄 더 생긴다."
      ]
    },
    {
      "cell_type": "markdown",
      "id": "773513f1-f965-45dd-ba60-b2afba5c1f31",
      "metadata": {
        "id": "773513f1-f965-45dd-ba60-b2afba5c1f31"
      },
      "source": [
        "***잘못된 브로드캐스팅***"
      ]
    },
    {
      "cell_type": "code",
      "execution_count": null,
      "id": "adcbf7c2-98bf-49af-8b04-fa2bb59bc70e",
      "metadata": {
        "id": "adcbf7c2-98bf-49af-8b04-fa2bb59bc70e",
        "outputId": "350d0961-3b9d-4d91-b392-58c79405509b",
        "colab": {
          "base_uri": "https://localhost:8080/",
          "height": 147
        }
      },
      "outputs": [
        {
          "output_type": "error",
          "ename": "RuntimeError",
          "evalue": "The size of tensor a (2) must match the size of tensor b (3) at non-singleton dimension 1",
          "traceback": [
            "\u001b[0;31m---------------------------------------------------------------------------\u001b[0m",
            "\u001b[0;31mRuntimeError\u001b[0m                              Traceback (most recent call last)",
            "\u001b[0;32m<ipython-input-18-e6957f9ec2db>\u001b[0m in \u001b[0;36m<cell line: 0>\u001b[0;34m()\u001b[0m\n\u001b[0;32m----> 1\u001b[0;31m \u001b[0mtorch\u001b[0m\u001b[0;34m.\u001b[0m\u001b[0mtensor\u001b[0m\u001b[0;34m(\u001b[0m\u001b[0;34m[\u001b[0m\u001b[0;34m[\u001b[0m\u001b[0;36m1\u001b[0m\u001b[0;34m,\u001b[0m\u001b[0;36m2\u001b[0m\u001b[0;34m]\u001b[0m\u001b[0;34m,\u001b[0m\u001b[0;34m[\u001b[0m\u001b[0;36m3\u001b[0m\u001b[0;34m,\u001b[0m\u001b[0;36m4\u001b[0m\u001b[0;34m]\u001b[0m\u001b[0;34m,\u001b[0m\u001b[0;34m[\u001b[0m\u001b[0;36m5\u001b[0m\u001b[0;34m,\u001b[0m\u001b[0;36m6\u001b[0m\u001b[0;34m]\u001b[0m\u001b[0;34m]\u001b[0m\u001b[0;34m)\u001b[0m \u001b[0;34m+\u001b[0m \u001b[0mtorch\u001b[0m\u001b[0;34m.\u001b[0m\u001b[0mtensor\u001b[0m\u001b[0;34m(\u001b[0m\u001b[0;34m[\u001b[0m\u001b[0;34m[\u001b[0m\u001b[0;34m-\u001b[0m\u001b[0;36m1\u001b[0m\u001b[0;34m,\u001b[0m\u001b[0;34m-\u001b[0m\u001b[0;36m3\u001b[0m\u001b[0;34m,\u001b[0m\u001b[0;34m-\u001b[0m\u001b[0;36m5\u001b[0m\u001b[0;34m]\u001b[0m\u001b[0;34m]\u001b[0m\u001b[0;34m)\u001b[0m \u001b[0;31m#3x2행렬에서 1x3행렬을 뺀다는 것. 1x3행렬에서 -1,-3,-5가 밑으로 두 줄 채워져서 3x3행렬이 되고, 3x2와 차원이 맞지 않는다.\u001b[0m\u001b[0;34m\u001b[0m\u001b[0;34m\u001b[0m\u001b[0m\n\u001b[0m",
            "\u001b[0;31mRuntimeError\u001b[0m: The size of tensor a (2) must match the size of tensor b (3) at non-singleton dimension 1"
          ]
        }
      ],
      "source": [
        "torch.tensor([[1,2],[3,4],[5,6]]) + torch.tensor([[-1,-3,-5]]) #3x2행렬에서 1x3행렬을 뺀다는 것. 1x3행렬에서 -1,-3,-5가 밑으로 두 줄 채워져서 3x3행렬이 되고, 3x2와 차원이 맞지 않는다."
      ]
    },
    {
      "cell_type": "code",
      "execution_count": null,
      "id": "28292256-c002-4f5b-af98-faab9411eac2",
      "metadata": {
        "id": "28292256-c002-4f5b-af98-faab9411eac2",
        "outputId": "8be14c01-c322-444d-ba7c-816245ed2a02",
        "colab": {
          "base_uri": "https://localhost:8080/",
          "height": 147
        }
      },
      "outputs": [
        {
          "output_type": "error",
          "ename": "RuntimeError",
          "evalue": "The size of tensor a (3) must match the size of tensor b (2) at non-singleton dimension 0",
          "traceback": [
            "\u001b[0;31m---------------------------------------------------------------------------\u001b[0m",
            "\u001b[0;31mRuntimeError\u001b[0m                              Traceback (most recent call last)",
            "\u001b[0;32m<ipython-input-19-0f7ba95feb3d>\u001b[0m in \u001b[0;36m<cell line: 0>\u001b[0;34m()\u001b[0m\n\u001b[0;32m----> 1\u001b[0;31m \u001b[0mtorch\u001b[0m\u001b[0;34m.\u001b[0m\u001b[0mtensor\u001b[0m\u001b[0;34m(\u001b[0m\u001b[0;34m[\u001b[0m\u001b[0;34m[\u001b[0m\u001b[0;36m1\u001b[0m\u001b[0;34m,\u001b[0m\u001b[0;36m2\u001b[0m\u001b[0;34m]\u001b[0m\u001b[0;34m,\u001b[0m\u001b[0;34m[\u001b[0m\u001b[0;36m3\u001b[0m\u001b[0;34m,\u001b[0m\u001b[0;36m4\u001b[0m\u001b[0;34m]\u001b[0m\u001b[0;34m,\u001b[0m\u001b[0;34m[\u001b[0m\u001b[0;36m5\u001b[0m\u001b[0;34m,\u001b[0m\u001b[0;36m6\u001b[0m\u001b[0;34m]\u001b[0m\u001b[0;34m]\u001b[0m\u001b[0;34m)\u001b[0m \u001b[0;34m+\u001b[0m \u001b[0mtorch\u001b[0m\u001b[0;34m.\u001b[0m\u001b[0mtensor\u001b[0m\u001b[0;34m(\u001b[0m\u001b[0;34m[\u001b[0m\u001b[0;34m[\u001b[0m\u001b[0;34m-\u001b[0m\u001b[0;36m1\u001b[0m\u001b[0;34m]\u001b[0m\u001b[0;34m,\u001b[0m\u001b[0;34m[\u001b[0m\u001b[0;34m-\u001b[0m\u001b[0;36m2\u001b[0m\u001b[0;34m]\u001b[0m\u001b[0;34m]\u001b[0m\u001b[0;34m)\u001b[0m \u001b[0;31m#3x2행렬에서 2x1행렬을 뺀다는 것. 2x1에서 옆으로 -1과 -2가 채워진다고 해도 3x2와 차원이 맞지 않게 된다.\u001b[0m\u001b[0;34m\u001b[0m\u001b[0;34m\u001b[0m\u001b[0m\n\u001b[0m",
            "\u001b[0;31mRuntimeError\u001b[0m: The size of tensor a (3) must match the size of tensor b (2) at non-singleton dimension 0"
          ]
        }
      ],
      "source": [
        "torch.tensor([[1,2],[3,4],[5,6]]) + torch.tensor([[-1],[-2]]) #3x2행렬에서 2x1행렬을 뺀다는 것. 2x1에서 옆으로 -1과 -2가 채워진다고 해도 3x2와 차원이 맞지 않게 된다."
      ]
    },
    {
      "cell_type": "markdown",
      "id": "39d64e21-623e-4fac-b660-3166cbf3b3e8",
      "metadata": {
        "id": "39d64e21-623e-4fac-b660-3166cbf3b3e8"
      },
      "source": [
        "***이상한 것***"
      ]
    },
    {
      "cell_type": "code",
      "execution_count": null,
      "id": "3bc6db41-4b59-427f-b51c-32533fa16694",
      "metadata": {
        "id": "3bc6db41-4b59-427f-b51c-32533fa16694",
        "outputId": "76a3bedd-3c31-4a5c-a365-3fa82eeb0c8d",
        "colab": {
          "base_uri": "https://localhost:8080/"
        }
      },
      "outputs": [
        {
          "output_type": "execute_result",
          "data": {
            "text/plain": [
              "tensor([[0, 0],\n",
              "        [2, 2],\n",
              "        [4, 4]])"
            ]
          },
          "metadata": {},
          "execution_count": 20
        }
      ],
      "source": [
        "torch.tensor([[1,2],[3,4],[5,6]]) + torch.tensor([-1,-2]) #3x2행렬에서 벡터를 빼는 것. torch에서 계산이 지원됨. 벡터 (-1,-2)가 열벡터로 알아서 해석하고(1x2행렬로 해석) 계산이 됨."
      ]
    },
    {
      "cell_type": "code",
      "execution_count": null,
      "id": "7a85150a-c777-4d62-a833-20605a5040cf",
      "metadata": {
        "id": "7a85150a-c777-4d62-a833-20605a5040cf",
        "outputId": "0da904ec-ebbe-4934-9569-4d521d236be3",
        "colab": {
          "base_uri": "https://localhost:8080/",
          "height": 147
        }
      },
      "outputs": [
        {
          "output_type": "error",
          "ename": "RuntimeError",
          "evalue": "The size of tensor a (2) must match the size of tensor b (3) at non-singleton dimension 1",
          "traceback": [
            "\u001b[0;31m---------------------------------------------------------------------------\u001b[0m",
            "\u001b[0;31mRuntimeError\u001b[0m                              Traceback (most recent call last)",
            "\u001b[0;32m<ipython-input-21-d6b8cc794dd2>\u001b[0m in \u001b[0;36m<cell line: 0>\u001b[0;34m()\u001b[0m\n\u001b[0;32m----> 1\u001b[0;31m \u001b[0mtorch\u001b[0m\u001b[0;34m.\u001b[0m\u001b[0mtensor\u001b[0m\u001b[0;34m(\u001b[0m\u001b[0;34m[\u001b[0m\u001b[0;34m[\u001b[0m\u001b[0;36m1\u001b[0m\u001b[0;34m,\u001b[0m\u001b[0;36m2\u001b[0m\u001b[0;34m]\u001b[0m\u001b[0;34m,\u001b[0m\u001b[0;34m[\u001b[0m\u001b[0;36m3\u001b[0m\u001b[0;34m,\u001b[0m\u001b[0;36m4\u001b[0m\u001b[0;34m]\u001b[0m\u001b[0;34m,\u001b[0m\u001b[0;34m[\u001b[0m\u001b[0;36m5\u001b[0m\u001b[0;34m,\u001b[0m\u001b[0;36m6\u001b[0m\u001b[0;34m]\u001b[0m\u001b[0;34m]\u001b[0m\u001b[0;34m)\u001b[0m \u001b[0;34m+\u001b[0m \u001b[0mtorch\u001b[0m\u001b[0;34m.\u001b[0m\u001b[0mtensor\u001b[0m\u001b[0;34m(\u001b[0m\u001b[0;34m[\u001b[0m\u001b[0;34m-\u001b[0m\u001b[0;36m1\u001b[0m\u001b[0;34m,\u001b[0m\u001b[0;34m-\u001b[0m\u001b[0;36m3\u001b[0m\u001b[0;34m,\u001b[0m\u001b[0;34m-\u001b[0m\u001b[0;36m5\u001b[0m\u001b[0;34m]\u001b[0m\u001b[0;34m)\u001b[0m \u001b[0;31m#3x2행렬에서 벡터를 빼는 것. 이건 안됨.\u001b[0m\u001b[0;34m\u001b[0m\u001b[0;34m\u001b[0m\u001b[0m\n\u001b[0m",
            "\u001b[0;31mRuntimeError\u001b[0m: The size of tensor a (2) must match the size of tensor b (3) at non-singleton dimension 1"
          ]
        }
      ],
      "source": [
        "torch.tensor([[1,2],[3,4],[5,6]]) + torch.tensor([-1,-3,-5]) #3x2행렬에서 벡터를 빼는 것. 이건 안됨."
      ]
    },
    {
      "cell_type": "markdown",
      "id": "93812cd2-c0c1-4431-9d80-b9c24c009371",
      "metadata": {
        "id": "93812cd2-c0c1-4431-9d80-b9c24c009371"
      },
      "source": [
        "`-` 행렬곱"
      ]
    },
    {
      "cell_type": "markdown",
      "id": "fdc178a7-a983-47da-b36e-99cdaa291d0a",
      "metadata": {
        "id": "fdc178a7-a983-47da-b36e-99cdaa291d0a"
      },
      "source": [
        "***정상적인 행렬곱***"
      ]
    },
    {
      "cell_type": "code",
      "execution_count": null,
      "id": "70b0e64a-e10c-4be8-8025-4fc64e75c7b6",
      "metadata": {
        "id": "70b0e64a-e10c-4be8-8025-4fc64e75c7b6",
        "outputId": "7195adce-ecdc-4133-e568-d2c0eee8fb01",
        "colab": {
          "base_uri": "https://localhost:8080/"
        }
      },
      "outputs": [
        {
          "output_type": "execute_result",
          "data": {
            "text/plain": [
              "tensor([[ 5],\n",
              "        [11],\n",
              "        [17]])"
            ]
          },
          "metadata": {},
          "execution_count": 22
        }
      ],
      "source": [
        "torch.tensor([[1,2],[3,4],[5,6]]) @ torch.tensor([[1],[2]]) #@는 행렬곱 기호. 3x2행렬과 2x1행렬 곱하기"
      ]
    },
    {
      "cell_type": "code",
      "execution_count": null,
      "id": "be672e2d-6ff7-410b-9534-5df651ce0f48",
      "metadata": {
        "id": "be672e2d-6ff7-410b-9534-5df651ce0f48",
        "outputId": "30eec857-a644-417d-8adf-3736f6796d8b",
        "colab": {
          "base_uri": "https://localhost:8080/"
        }
      },
      "outputs": [
        {
          "output_type": "execute_result",
          "data": {
            "text/plain": [
              "tensor([[22, 28]])"
            ]
          },
          "metadata": {},
          "execution_count": 23
        }
      ],
      "source": [
        "torch.tensor([[1,2,3]]) @ torch.tensor([[1,2],[3,4],[5,6]]) #1x3행렬과 3x2행렬 곱하기"
      ]
    },
    {
      "cell_type": "markdown",
      "id": "28803d22-c837-4538-976e-b1c4835265a0",
      "metadata": {
        "id": "28803d22-c837-4538-976e-b1c4835265a0"
      },
      "source": [
        "***잘못된 행렬곱***"
      ]
    },
    {
      "cell_type": "code",
      "execution_count": null,
      "id": "70fd75c5-30a4-4d41-b52c-6bc97f6e87b7",
      "metadata": {
        "id": "70fd75c5-30a4-4d41-b52c-6bc97f6e87b7",
        "outputId": "8b83ff6f-e0cc-43d8-a192-a72c46a5aa72"
      },
      "outputs": [
        {
          "ename": "RuntimeError",
          "evalue": "mat1 and mat2 shapes cannot be multiplied (3x2 and 1x2)",
          "output_type": "error",
          "traceback": [
            "\u001b[0;31m---------------------------------------------------------------------------\u001b[0m",
            "\u001b[0;31mRuntimeError\u001b[0m                              Traceback (most recent call last)",
            "Cell \u001b[0;32mIn[153], line 1\u001b[0m\n\u001b[0;32m----> 1\u001b[0m \u001b[43mtorch\u001b[49m\u001b[38;5;241;43m.\u001b[39;49m\u001b[43mtensor\u001b[49m\u001b[43m(\u001b[49m\u001b[43m[\u001b[49m\u001b[43m[\u001b[49m\u001b[38;5;241;43m1\u001b[39;49m\u001b[43m,\u001b[49m\u001b[38;5;241;43m2\u001b[39;49m\u001b[43m]\u001b[49m\u001b[43m,\u001b[49m\u001b[43m[\u001b[49m\u001b[38;5;241;43m3\u001b[39;49m\u001b[43m,\u001b[49m\u001b[38;5;241;43m4\u001b[39;49m\u001b[43m]\u001b[49m\u001b[43m,\u001b[49m\u001b[43m[\u001b[49m\u001b[38;5;241;43m5\u001b[39;49m\u001b[43m,\u001b[49m\u001b[38;5;241;43m6\u001b[39;49m\u001b[43m]\u001b[49m\u001b[43m]\u001b[49m\u001b[43m)\u001b[49m\u001b[43m \u001b[49m\u001b[38;5;241;43m@\u001b[39;49m\u001b[43m \u001b[49m\u001b[43mtorch\u001b[49m\u001b[38;5;241;43m.\u001b[39;49m\u001b[43mtensor\u001b[49m\u001b[43m(\u001b[49m\u001b[43m[\u001b[49m\u001b[43m[\u001b[49m\u001b[38;5;241;43m1\u001b[39;49m\u001b[43m,\u001b[49m\u001b[38;5;241;43m2\u001b[39;49m\u001b[43m]\u001b[49m\u001b[43m]\u001b[49m\u001b[43m)\u001b[49m\n",
            "\u001b[0;31mRuntimeError\u001b[0m: mat1 and mat2 shapes cannot be multiplied (3x2 and 1x2)"
          ]
        }
      ],
      "source": [
        "torch.tensor([[1,2],[3,4],[5,6]]) @ torch.tensor([[1,2]]) #3x2 행렬과 1x2행렬을 곱하기 -> 차원이 안맞아서 실패"
      ]
    },
    {
      "cell_type": "code",
      "execution_count": null,
      "id": "97769005-262c-439e-a0af-9b8c17febab0",
      "metadata": {
        "id": "97769005-262c-439e-a0af-9b8c17febab0",
        "outputId": "111dd105-d147-4f66-9d16-15490d8acf5c"
      },
      "outputs": [
        {
          "ename": "RuntimeError",
          "evalue": "mat1 and mat2 shapes cannot be multiplied (3x1 and 3x2)",
          "output_type": "error",
          "traceback": [
            "\u001b[0;31m---------------------------------------------------------------------------\u001b[0m",
            "\u001b[0;31mRuntimeError\u001b[0m                              Traceback (most recent call last)",
            "Cell \u001b[0;32mIn[154], line 1\u001b[0m\n\u001b[0;32m----> 1\u001b[0m \u001b[43mtorch\u001b[49m\u001b[38;5;241;43m.\u001b[39;49m\u001b[43mtensor\u001b[49m\u001b[43m(\u001b[49m\u001b[43m[\u001b[49m\u001b[43m[\u001b[49m\u001b[38;5;241;43m1\u001b[39;49m\u001b[43m]\u001b[49m\u001b[43m,\u001b[49m\u001b[43m[\u001b[49m\u001b[38;5;241;43m2\u001b[39;49m\u001b[43m]\u001b[49m\u001b[43m,\u001b[49m\u001b[43m[\u001b[49m\u001b[38;5;241;43m3\u001b[39;49m\u001b[43m]\u001b[49m\u001b[43m]\u001b[49m\u001b[43m)\u001b[49m\u001b[43m \u001b[49m\u001b[38;5;241;43m@\u001b[39;49m\u001b[43m \u001b[49m\u001b[43mtorch\u001b[49m\u001b[38;5;241;43m.\u001b[39;49m\u001b[43mtensor\u001b[49m\u001b[43m(\u001b[49m\u001b[43m[\u001b[49m\u001b[43m[\u001b[49m\u001b[38;5;241;43m1\u001b[39;49m\u001b[43m,\u001b[49m\u001b[38;5;241;43m2\u001b[39;49m\u001b[43m]\u001b[49m\u001b[43m,\u001b[49m\u001b[43m[\u001b[49m\u001b[38;5;241;43m3\u001b[39;49m\u001b[43m,\u001b[49m\u001b[38;5;241;43m4\u001b[39;49m\u001b[43m]\u001b[49m\u001b[43m,\u001b[49m\u001b[43m[\u001b[49m\u001b[38;5;241;43m5\u001b[39;49m\u001b[43m,\u001b[49m\u001b[38;5;241;43m6\u001b[39;49m\u001b[43m]\u001b[49m\u001b[43m]\u001b[49m\u001b[43m)\u001b[49m\n",
            "\u001b[0;31mRuntimeError\u001b[0m: mat1 and mat2 shapes cannot be multiplied (3x1 and 3x2)"
          ]
        }
      ],
      "source": [
        "torch.tensor([[1],[2],[3]]) @ torch.tensor([[1,2],[3,4],[5,6]]) #3x1행렬과 3x2행렬 곱하기 -> 차원이 안맞아서 실패"
      ]
    },
    {
      "cell_type": "markdown",
      "id": "540ab0a0-e197-4024-9b23-30889bcc575c",
      "metadata": {
        "id": "540ab0a0-e197-4024-9b23-30889bcc575c"
      },
      "source": [
        "***이상한 것***"
      ]
    },
    {
      "cell_type": "code",
      "execution_count": null,
      "id": "2ecd144a-076b-44ae-8c99-faf1050f590f",
      "metadata": {
        "id": "2ecd144a-076b-44ae-8c99-faf1050f590f",
        "outputId": "4633f5cb-5103-4041-d7fb-c9804040f545",
        "colab": {
          "base_uri": "https://localhost:8080/"
        }
      },
      "outputs": [
        {
          "output_type": "execute_result",
          "data": {
            "text/plain": [
              "tensor([ 5, 11, 17])"
            ]
          },
          "metadata": {},
          "execution_count": 27
        }
      ],
      "source": [
        "torch.tensor([[1,2],[3,4],[5,6]]) @ torch.tensor([1,2]) # 이게 왜 가능..\n",
        "#3x2행렬과 길이가 2인 벡터 곱셈 -> 벡터를 알아서 2x1 행렬로 받아들이고(로우벡터) 계산을 해준다."
      ]
    },
    {
      "cell_type": "code",
      "execution_count": null,
      "id": "4bfa92c5-5979-4b38-9db4-62053d7fd219",
      "metadata": {
        "id": "4bfa92c5-5979-4b38-9db4-62053d7fd219",
        "outputId": "fa18cf77-9982-40ec-892f-900ef5d50faf",
        "colab": {
          "base_uri": "https://localhost:8080/"
        }
      },
      "outputs": [
        {
          "output_type": "execute_result",
          "data": {
            "text/plain": [
              "tensor([22, 28])"
            ]
          },
          "metadata": {},
          "execution_count": 26
        }
      ],
      "source": [
        "torch.tensor([1,2,3]) @ torch.tensor([[1,2],[3,4],[5,6]]) # 이건 왜 가능?\n",
        "#길이(차원)이 3인 벡터와 3x2행렬 곱셈 -> 알아서 컬럼벡터로 받아서 1x3행렬로 맞춘 뒤 계산을 해준다."
      ]
    },
    {
      "cell_type": "markdown",
      "id": "815af9ab-c310-4136-bd32-cda4c94ff8a6",
      "metadata": {
        "id": "815af9ab-c310-4136-bd32-cda4c94ff8a6"
      },
      "source": [
        "## C. transpose, reshape"
      ]
    },
    {
      "cell_type": "markdown",
      "id": "3375ad42-aa34-4cf0-9c88-5b2ee11b5e05",
      "metadata": {
        "id": "3375ad42-aa34-4cf0-9c88-5b2ee11b5e05"
      },
      "source": [
        "`-` transpose"
      ]
    },
    {
      "cell_type": "code",
      "execution_count": null,
      "id": "c5966791-22f2-44b5-99ec-15ffec83c3e9",
      "metadata": {
        "id": "c5966791-22f2-44b5-99ec-15ffec83c3e9",
        "outputId": "21a614c9-7050-4e55-9be4-0613014ad4bd",
        "colab": {
          "base_uri": "https://localhost:8080/"
        }
      },
      "outputs": [
        {
          "output_type": "execute_result",
          "data": {
            "text/plain": [
              "tensor([[1, 3],\n",
              "        [2, 4]])"
            ]
          },
          "metadata": {},
          "execution_count": 28
        }
      ],
      "source": [
        "torch.tensor([[1,2],[3,4]]).T #2x2행렬의 transpose."
      ]
    },
    {
      "cell_type": "code",
      "execution_count": null,
      "id": "175a84b6-3cd1-4401-8ec6-eaa1c9e3fc08",
      "metadata": {
        "id": "175a84b6-3cd1-4401-8ec6-eaa1c9e3fc08",
        "outputId": "bd7b7eb1-cbf3-49c6-c06b-eb786ea6f98f",
        "colab": {
          "base_uri": "https://localhost:8080/"
        }
      },
      "outputs": [
        {
          "output_type": "execute_result",
          "data": {
            "text/plain": [
              "tensor([[1, 3]])"
            ]
          },
          "metadata": {},
          "execution_count": 31
        }
      ],
      "source": [
        "torch.tensor([[1],[3]]).T #2x1행렬의 transpose -> 1 밑에 3이 있는 형태에서 transpose되면 밑에 있던 3이 1 오른쪽으로 이동. 로우벡터가 된다."
      ]
    },
    {
      "cell_type": "code",
      "execution_count": null,
      "id": "7850ddc7-1270-484c-9826-12a84e0c44fc",
      "metadata": {
        "id": "7850ddc7-1270-484c-9826-12a84e0c44fc",
        "outputId": "a0c56e1a-df7d-49fb-83b2-e33ecabd1c43",
        "colab": {
          "base_uri": "https://localhost:8080/"
        }
      },
      "outputs": [
        {
          "output_type": "execute_result",
          "data": {
            "text/plain": [
              "tensor([[1],\n",
              "        [2]])"
            ]
          },
          "metadata": {},
          "execution_count": 33
        }
      ],
      "source": [
        "torch.tensor([[1,2]]).T #바로 위랑 반대 예시"
      ]
    },
    {
      "cell_type": "markdown",
      "id": "0fc0aa81-5344-4a63-a8fa-7ebf52b4d56b",
      "metadata": {
        "id": "0fc0aa81-5344-4a63-a8fa-7ebf52b4d56b"
      },
      "source": [
        "`-` reshape"
      ]
    },
    {
      "cell_type": "markdown",
      "id": "191934b1-cf80-4acd-8cea-3feada5c38b8",
      "metadata": {
        "id": "191934b1-cf80-4acd-8cea-3feada5c38b8"
      },
      "source": [
        "***일반적인 사용***"
      ]
    },
    {
      "cell_type": "code",
      "execution_count": null,
      "id": "7f283d07-6c25-4f6d-be23-2e07d2019d21",
      "metadata": {
        "id": "7f283d07-6c25-4f6d-be23-2e07d2019d21",
        "outputId": "1c35b96a-8abf-49e0-b7bf-1433c3c81a6e",
        "colab": {
          "base_uri": "https://localhost:8080/"
        }
      },
      "outputs": [
        {
          "output_type": "execute_result",
          "data": {
            "text/plain": [
              "tensor([[1, 2, 3],\n",
              "        [4, 5, 6]])"
            ]
          },
          "metadata": {},
          "execution_count": 37
        }
      ],
      "source": [
        "torch.tensor([[1,2],[3,4],[5,6]]).reshape(2,3) #3x2행렬의 차원 바꾸기. reshape이 transpose기능이랑 같음"
      ]
    },
    {
      "cell_type": "code",
      "execution_count": null,
      "id": "d2232c7c-7ff0-4228-9068-915f9830f2a7",
      "metadata": {
        "id": "d2232c7c-7ff0-4228-9068-915f9830f2a7",
        "outputId": "d5c963a6-fdfd-47e2-9714-a8dc0e36f77f",
        "colab": {
          "base_uri": "https://localhost:8080/"
        }
      },
      "outputs": [
        {
          "output_type": "execute_result",
          "data": {
            "text/plain": [
              "tensor([[1],\n",
              "        [2],\n",
              "        [3],\n",
              "        [4],\n",
              "        [5],\n",
              "        [6]])"
            ]
          },
          "metadata": {},
          "execution_count": 38
        }
      ],
      "source": [
        "torch.tensor([[1,2],[3,4],[5,6]]).reshape(6,1) #3x2행렬 차원 바꾸기."
      ]
    },
    {
      "cell_type": "code",
      "execution_count": null,
      "id": "aee2ba01-477d-4281-9e43-fe4c193a0b2c",
      "metadata": {
        "id": "aee2ba01-477d-4281-9e43-fe4c193a0b2c",
        "outputId": "95e30ed6-46ca-4170-c73e-984d0faf6f6b",
        "colab": {
          "base_uri": "https://localhost:8080/"
        }
      },
      "outputs": [
        {
          "output_type": "execute_result",
          "data": {
            "text/plain": [
              "tensor([[1, 2, 3, 4, 5, 6]])"
            ]
          },
          "metadata": {},
          "execution_count": 39
        }
      ],
      "source": [
        "torch.tensor([[1,2],[3,4],[5,6]]).reshape(1,6) #3x2행렬 차원 바꾸기."
      ]
    },
    {
      "cell_type": "code",
      "execution_count": null,
      "id": "b8a0115a-e026-4866-b3f6-76c9a142d1ff",
      "metadata": {
        "id": "b8a0115a-e026-4866-b3f6-76c9a142d1ff",
        "outputId": "86ce03a9-8450-4217-d1e2-ac662dcfc863",
        "colab": {
          "base_uri": "https://localhost:8080/"
        }
      },
      "outputs": [
        {
          "output_type": "execute_result",
          "data": {
            "text/plain": [
              "tensor([1, 2, 3, 4, 5, 6])"
            ]
          },
          "metadata": {},
          "execution_count": 40
        }
      ],
      "source": [
        "torch.tensor([[1,2],[3,4],[5,6]]).reshape(6) #길이가 6인 벡터로 바꿔라."
      ]
    },
    {
      "cell_type": "markdown",
      "id": "2900a644-2eca-4ef9-9801-3700883bb54b",
      "metadata": {
        "id": "2900a644-2eca-4ef9-9801-3700883bb54b"
      },
      "source": [
        "***편한 것***"
      ]
    },
    {
      "cell_type": "code",
      "execution_count": null,
      "id": "6bb579a4-fbf2-46f3-9425-431db2d32216",
      "metadata": {
        "id": "6bb579a4-fbf2-46f3-9425-431db2d32216",
        "outputId": "723d508f-31a2-4cd3-bddf-c60bcb138218",
        "colab": {
          "base_uri": "https://localhost:8080/"
        }
      },
      "outputs": [
        {
          "output_type": "execute_result",
          "data": {
            "text/plain": [
              "tensor([[1, 2, 3],\n",
              "        [4, 5, 6]])"
            ]
          },
          "metadata": {},
          "execution_count": 42
        }
      ],
      "source": [
        "torch.tensor([[1,2],[3,4],[5,6]]).reshape(2,-1) #(줄 개수, 그 줄에 올 숫자 개수) 형태이고, 줄 개수와 숫자 개수가 곱해지면 총 숫자 개수가 나와야 함. 숫자를 제대로 못 맞추면 에러가 남.\n",
        "#숫자 개수 모르겠으면 -1을 적으면 알아서 맞춰준다"
      ]
    },
    {
      "cell_type": "code",
      "execution_count": null,
      "id": "f0e14499-f06c-495e-a8d1-b35a8f96ef70",
      "metadata": {
        "id": "f0e14499-f06c-495e-a8d1-b35a8f96ef70",
        "outputId": "2fd9662e-9a6a-40c0-b817-146b29555e31",
        "colab": {
          "base_uri": "https://localhost:8080/"
        }
      },
      "outputs": [
        {
          "output_type": "execute_result",
          "data": {
            "text/plain": [
              "tensor([[1],\n",
              "        [2],\n",
              "        [3],\n",
              "        [4],\n",
              "        [5],\n",
              "        [6]])"
            ]
          },
          "metadata": {},
          "execution_count": 43
        }
      ],
      "source": [
        "torch.tensor([[1,2],[3,4],[5,6]]).reshape(6,-1)"
      ]
    },
    {
      "cell_type": "code",
      "execution_count": null,
      "id": "41d0454a-172c-4751-b888-7d05e5af2078",
      "metadata": {
        "id": "41d0454a-172c-4751-b888-7d05e5af2078",
        "outputId": "702c9cf9-446a-4618-ff18-0b3a8fb7b76e",
        "colab": {
          "base_uri": "https://localhost:8080/"
        }
      },
      "outputs": [
        {
          "output_type": "execute_result",
          "data": {
            "text/plain": [
              "tensor([[1, 2, 3, 4, 5, 6]])"
            ]
          },
          "metadata": {},
          "execution_count": 46
        }
      ],
      "source": [
        "torch.tensor([[1,2],[3,4],[5,6]]).reshape(-1,6) #줄 개수 모르겠으면 숫자 개수만 적고 줄 개수에 -1 적어주면 알아서 맞춰준다"
      ]
    },
    {
      "cell_type": "code",
      "execution_count": null,
      "id": "06de0f8f-3d5a-40d3-a05f-b5437aac7c69",
      "metadata": {
        "id": "06de0f8f-3d5a-40d3-a05f-b5437aac7c69",
        "outputId": "e9c6f7a4-8890-4117-8ea6-58f5452a3737",
        "colab": {
          "base_uri": "https://localhost:8080/"
        }
      },
      "outputs": [
        {
          "output_type": "execute_result",
          "data": {
            "text/plain": [
              "tensor([1, 2, 3, 4, 5, 6])"
            ]
          },
          "metadata": {},
          "execution_count": 47
        }
      ],
      "source": [
        "torch.tensor([[1,2],[3,4],[5,6]]).reshape(-1) #일자로 쭉 피는 것"
      ]
    },
    {
      "cell_type": "markdown",
      "id": "1c7dbc31-aa01-45de-8752-d4a58a429bba",
      "metadata": {
        "id": "1c7dbc31-aa01-45de-8752-d4a58a429bba"
      },
      "source": [
        "## D. concat, stack $(\\star\\star\\star)$"
      ]
    },
    {
      "cell_type": "markdown",
      "id": "4b43bd01-5a2e-4544-82a4-77d131d65fd7",
      "metadata": {
        "id": "4b43bd01-5a2e-4544-82a4-77d131d65fd7"
      },
      "source": [
        "`-` concat : 양 옆으로 붙이고 싶은 행렬 두 개를 리스트에 적어주고, 축을 표시해준다."
      ]
    },
    {
      "cell_type": "code",
      "execution_count": null,
      "id": "5e12b960-9911-4e6a-a6f0-205b0d24183c",
      "metadata": {
        "id": "5e12b960-9911-4e6a-a6f0-205b0d24183c",
        "outputId": "935df068-749f-421f-9d9b-c0b004a61225",
        "colab": {
          "base_uri": "https://localhost:8080/"
        }
      },
      "outputs": [
        {
          "output_type": "execute_result",
          "data": {
            "text/plain": [
              "tensor([[1, 2],\n",
              "        [3, 4],\n",
              "        [5, 6]])"
            ]
          },
          "metadata": {},
          "execution_count": 48
        }
      ],
      "source": [
        "a = torch.tensor([[1],[3],[5]])\n",
        "b = torch.tensor([[2],[4],[6]])\n",
        "torch.concat([a,b],axis=1)"
      ]
    },
    {
      "cell_type": "code",
      "source": [
        "a"
      ],
      "metadata": {
        "colab": {
          "base_uri": "https://localhost:8080/"
        },
        "id": "HrYE4x5P23vh",
        "outputId": "ef5e1145-0ac4-450f-d9d9-f4fa39357de9"
      },
      "id": "HrYE4x5P23vh",
      "execution_count": null,
      "outputs": [
        {
          "output_type": "execute_result",
          "data": {
            "text/plain": [
              "tensor([[1],\n",
              "        [3],\n",
              "        [5]])"
            ]
          },
          "metadata": {},
          "execution_count": 49
        }
      ]
    },
    {
      "cell_type": "code",
      "source": [
        "b"
      ],
      "metadata": {
        "colab": {
          "base_uri": "https://localhost:8080/"
        },
        "id": "26bO31Qk2445",
        "outputId": "02e0f8eb-c96a-4317-aa72-e4cbe700a77d"
      },
      "id": "26bO31Qk2445",
      "execution_count": null,
      "outputs": [
        {
          "output_type": "execute_result",
          "data": {
            "text/plain": [
              "tensor([[2],\n",
              "        [4],\n",
              "        [6]])"
            ]
          },
          "metadata": {},
          "execution_count": 50
        }
      ]
    },
    {
      "cell_type": "markdown",
      "id": "67a4a78e-133a-4432-95ad-de95232cdcba",
      "metadata": {
        "id": "67a4a78e-133a-4432-95ad-de95232cdcba"
      },
      "source": [
        "`-` stack : 차원을 늘려서 행렬을 붙인다."
      ]
    },
    {
      "cell_type": "code",
      "execution_count": null,
      "id": "b2fc101c-7e0d-46d2-9d33-952cd2bbd6ba",
      "metadata": {
        "id": "b2fc101c-7e0d-46d2-9d33-952cd2bbd6ba",
        "outputId": "a4426408-88fa-496a-bc48-3e353409b97b",
        "colab": {
          "base_uri": "https://localhost:8080/"
        }
      },
      "outputs": [
        {
          "output_type": "execute_result",
          "data": {
            "text/plain": [
              "tensor([[1, 2],\n",
              "        [3, 4],\n",
              "        [5, 6]])"
            ]
          },
          "metadata": {},
          "execution_count": 52
        }
      ],
      "source": [
        "a = torch.tensor([1,3,5])\n",
        "b = torch.tensor([2,4,6])\n",
        "torch.stack([a,b],axis=1)"
      ]
    },
    {
      "cell_type": "code",
      "source": [
        "a"
      ],
      "metadata": {
        "colab": {
          "base_uri": "https://localhost:8080/"
        },
        "id": "g3pncy5l3qPR",
        "outputId": "0cd514c9-7a34-439b-e0b8-d881ec46ae85"
      },
      "id": "g3pncy5l3qPR",
      "execution_count": null,
      "outputs": [
        {
          "output_type": "execute_result",
          "data": {
            "text/plain": [
              "tensor([1, 3, 5])"
            ]
          },
          "metadata": {},
          "execution_count": 54
        }
      ]
    },
    {
      "cell_type": "code",
      "source": [
        "b"
      ],
      "metadata": {
        "colab": {
          "base_uri": "https://localhost:8080/"
        },
        "id": "EKaYkOxU3sJ5",
        "outputId": "568e96e4-b424-484e-beb5-a15f036fd0ca"
      },
      "id": "EKaYkOxU3sJ5",
      "execution_count": null,
      "outputs": [
        {
          "output_type": "execute_result",
          "data": {
            "text/plain": [
              "tensor([2, 4, 6])"
            ]
          },
          "metadata": {},
          "execution_count": 55
        }
      ]
    },
    {
      "cell_type": "code",
      "source": [
        "a.reshape(3,1)"
      ],
      "metadata": {
        "colab": {
          "base_uri": "https://localhost:8080/"
        },
        "id": "SeZfVjrw3nDx",
        "outputId": "26b94664-e5d9-41b8-8228-c2e531d196b6"
      },
      "id": "SeZfVjrw3nDx",
      "execution_count": null,
      "outputs": [
        {
          "output_type": "execute_result",
          "data": {
            "text/plain": [
              "tensor([[1],\n",
              "        [3],\n",
              "        [5]])"
            ]
          },
          "metadata": {},
          "execution_count": 53
        }
      ]
    },
    {
      "cell_type": "code",
      "source": [
        "torch.concat([a.reshape(3,1),b.reshape(3,1)],axis=1)"
      ],
      "metadata": {
        "colab": {
          "base_uri": "https://localhost:8080/"
        },
        "id": "s86lDbU13t-x",
        "outputId": "3735e931-a95a-40fa-ec59-86211fd71745"
      },
      "id": "s86lDbU13t-x",
      "execution_count": null,
      "outputs": [
        {
          "output_type": "execute_result",
          "data": {
            "text/plain": [
              "tensor([[1, 2],\n",
              "        [3, 4],\n",
              "        [5, 6]])"
            ]
          },
          "metadata": {},
          "execution_count": 56
        }
      ]
    },
    {
      "cell_type": "markdown",
      "id": "09d73e16-290c-42ae-90c8-450ecc319d3f",
      "metadata": {
        "id": "09d73e16-290c-42ae-90c8-450ecc319d3f"
      },
      "source": [
        ":::{.callout-warning}\n",
        "\n",
        "concat과 stack을 지금 처음본다면 아래를 복습하시는게 좋습니다.\n",
        "\n",
        "<https://guebin.github.io/PP2024/posts/06wk-2.html#numpy와-축axis>\n",
        ":::"
      ]
    }
  ],
  "metadata": {
    "kernelspec": {
      "display_name": "Python 3 (ipykernel)",
      "language": "python",
      "name": "python3"
    },
    "language_info": {
      "codemirror_mode": {
        "name": "ipython",
        "version": 3
      },
      "file_extension": ".py",
      "mimetype": "text/x-python",
      "name": "python",
      "nbconvert_exporter": "python",
      "pygments_lexer": "ipython3",
      "version": "3.10.16"
    },
    "colab": {
      "provenance": []
    }
  },
  "nbformat": 4,
  "nbformat_minor": 5
}